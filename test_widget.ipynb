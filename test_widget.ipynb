{
 "cells": [
  {
   "cell_type": "code",
   "execution_count": 3,
   "id": "7a71e2af-baf5-4dde-bc8b-746aa6f98ee9",
   "metadata": {},
   "outputs": [
    {
     "data": {
      "application/vnd.jupyter.widget-view+json": {
       "model_id": "bb2e5715b35945448165e5965ce5a408",
       "version_major": 2,
       "version_minor": 0
      },
      "text/plain": [
       "FileUpload(value=(), accept='image/*', description='Upload')"
      ]
     },
     "metadata": {},
     "output_type": "display_data"
    },
    {
     "data": {
      "application/vnd.jupyter.widget-view+json": {
       "model_id": "754e1a530cf044f9b6d96fac1e2d9c09",
       "version_major": 2,
       "version_minor": 0
      },
      "text/plain": [
       "Output()"
      ]
     },
     "metadata": {},
     "output_type": "display_data"
    }
   ],
   "source": [
    "import io\n",
    "import ipywidgets as widgets\n",
    "from PIL import Image\n",
    "from tensorflow.keras.preprocessing.image import ImageDataGenerator, img_to_array\n",
    "import numpy as np\n",
    "\n",
    "def on_upload_change(change):\n",
    "    with output:\n",
    "        content = change['new'][0]['content']\n",
    "        image = Image.open(io.BytesIO(content))\n",
    "        display(image)\n",
    "        image_array = img_to_array(image)\n",
    "        image_array = np.expand_dims(image_array, axis=0)\n",
    "        img_generator = ImageDataGenerator(rescale=1./255)\n",
    "\n",
    "upload = widgets.FileUpload(accept='image/*', multiple=False)\n",
    "output = widgets.Output()\n",
    "display(upload, output)\n",
    "\n",
    "upload.observe(on_upload_change, names='value')"
   ]
  },
  {
   "cell_type": "code",
   "execution_count": null,
   "id": "a7934ca9-e383-44de-a263-1f9aa6495e6c",
   "metadata": {},
   "outputs": [],
   "source": [
    "{\n",
    "    'name': 'value', \n",
    "    'old': (), \n",
    "    'new': (\n",
    "        {\n",
    "            'name': 'output.png', \n",
    "            'type': 'image/png', \n",
    "            'size': 135156, \n",
    "            'content': <memory at 0x7f55c4d73dc0>, \n",
    "            'last_modified': datetime.datetime(2024, 4, 3, 12, 22, 25, 489000, tzinfo=datetime.timezone.utc)\n",
    "        },), \n",
    "    'owner': FileUpload(\n",
    "        value=({\n",
    "            'name': 'output.png', \n",
    "            'type': 'image/png', \n",
    "            'size': 135156, \n",
    "            'content': <memory at 0x7f55c4d73dc0>, \n",
    "            'last_modified': datetime.datetime(2024, 4, 3, 12, 22, 25, 489000, tzinfo=datetime.timezone.utc)},), \n",
    "        accept='image/*', \n",
    "        description='Upload'), \n",
    "    'type': 'change'\n",
    "}"
   ]
  }
 ],
 "metadata": {
  "kernelspec": {
   "display_name": "Python 3 (ipykernel)",
   "language": "python",
   "name": "python3"
  },
  "language_info": {
   "codemirror_mode": {
    "name": "ipython",
    "version": 3
   },
   "file_extension": ".py",
   "mimetype": "text/x-python",
   "name": "python",
   "nbconvert_exporter": "python",
   "pygments_lexer": "ipython3",
   "version": "3.12.4"
  }
 },
 "nbformat": 4,
 "nbformat_minor": 5
}
