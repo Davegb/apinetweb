{
 "cells": [
  {
   "cell_type": "code",
   "execution_count": 50,
   "id": "7a71e2af-baf5-4dde-bc8b-746aa6f98ee9",
   "metadata": {},
   "outputs": [
    {
     "data": {
      "application/vnd.jupyter.widget-view+json": {
       "model_id": "ce464802f02e41a1be8808ad5f4e62cb",
       "version_major": 2,
       "version_minor": 0
      },
      "text/plain": [
       "FileUpload(value=(), accept='image/*', description='Upload')"
      ]
     },
     "metadata": {},
     "output_type": "display_data"
    },
    {
     "data": {
      "application/vnd.jupyter.widget-view+json": {
       "model_id": "efb2aaa48b1e428cbb291a2a6694b1b5",
       "version_major": 2,
       "version_minor": 0
      },
      "text/plain": [
       "Output()"
      ]
     },
     "metadata": {},
     "output_type": "display_data"
    }
   ],
   "source": [
    "import ipywidgets as widgets\n",
    "\n",
    "upload = widgets.FileUpload(accept='image/*', multiple=False)\n",
    "output = widgets.Output()\n",
    "display(upload, output)"
   ]
  },
  {
   "cell_type": "code",
   "execution_count": 48,
   "id": "282e2665-3a74-4dc8-bd29-1fa4b4ad5572",
   "metadata": {},
   "outputs": [],
   "source": [
    "def on_upload_change(change):\n",
    "    # uploaded_file = list(change['new'].values())[0]\n",
    "    # content = uploaded_file['content']\n",
    "    # image = Image.open(io.BytesIO(content))\n",
    "    # display(image)\n",
    "    with output:\n",
    "        print('AAA')\n",
    "        # uploaded_file = list(change['new'].values())[0]\n",
    "        # print(uploaded_file)\n",
    "  # image_array = img_to_array(image)\n",
    "  # image_array = np.expand_dims(image_array, axis=0)\n",
    "  # img_generator = ImageDataGenerator(rescale=1./255)\n",
    "\n",
    "upload.observe(on_upload_change, names='value')"
   ]
  },
  {
   "cell_type": "code",
   "execution_count": 49,
   "id": "5317cc1b-59b6-4378-a80a-7877023a1dd1",
   "metadata": {},
   "outputs": [
    {
     "data": {
      "application/vnd.jupyter.widget-view+json": {
       "model_id": "ab847a9a0c8a4dd983437891b55bb7ca",
       "version_major": 2,
       "version_minor": 0
      },
      "text/plain": [
       "FileUpload(value=(), accept='image/*', description='Upload')"
      ]
     },
     "metadata": {},
     "output_type": "display_data"
    },
    {
     "data": {
      "application/vnd.jupyter.widget-view+json": {
       "model_id": "21cfb0707b88495d9dd1c39c7e84bdb3",
       "version_major": 2,
       "version_minor": 0
      },
      "text/plain": [
       "Output()"
      ]
     },
     "metadata": {},
     "output_type": "display_data"
    }
   ],
   "source": [
    "import ipywidgets as widgets\n",
    "\n",
    "upload = widgets.FileUpload(accept='image/*', multiple=False)\n",
    "output = widgets.Output()\n",
    "display(upload, output)"
   ]
  },
  {
   "cell_type": "code",
   "execution_count": null,
   "id": "a7934ca9-e383-44de-a263-1f9aa6495e6c",
   "metadata": {},
   "outputs": [],
   "source": []
  }
 ],
 "metadata": {
  "kernelspec": {
   "display_name": "Python 3 (ipykernel)",
   "language": "python",
   "name": "python3"
  },
  "language_info": {
   "codemirror_mode": {
    "name": "ipython",
    "version": 3
   },
   "file_extension": ".py",
   "mimetype": "text/x-python",
   "name": "python",
   "nbconvert_exporter": "python",
   "pygments_lexer": "ipython3",
   "version": "3.12.4"
  }
 },
 "nbformat": 4,
 "nbformat_minor": 5
}
